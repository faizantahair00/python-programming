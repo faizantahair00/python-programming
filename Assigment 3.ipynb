{
 "cells": [
  {
   "cell_type": "code",
   "execution_count": 2,
   "metadata": {},
   "outputs": [
    {
     "name": "stdout",
     "output_type": "stream",
     "text": [
      "Enter 1st number : 2\n",
      "Enter 2nd number : 2\n",
      "Enter operator : p\n",
      "Result :  4\n"
     ]
    }
   ],
   "source": [
    "value1 = int(input(\"Enter 1st number : \"))\n",
    "value2 = int(input(\"Enter 2nd number : \"))\n",
    "operator = input(\"Enter operator : \")\n",
    "\n",
    "if operator == \"*\":\n",
    "    print(value1*value2)\n",
    "    \n",
    "elif operator == '+':\n",
    "    pritn(value1+value2)\n",
    "\n",
    "elif operator == '-':\n",
    "    print(value1-value2)\n",
    "    \n",
    "elif operator == '/':\n",
    "    print(value1/value2)\n",
    "    \n",
    "elif operator == 'p':\n",
    "    print(\"Result : \",value1**value2)"
   ]
  },
  {
   "cell_type": "code",
   "execution_count": 3,
   "metadata": {},
   "outputs": [
    {
     "name": "stdout",
     "output_type": "stream",
     "text": [
      "12 : is numeric value\n",
      "13 : is numeric value\n",
      "111 : is numeric value\n",
      "123 : is numeric value\n"
     ]
    }
   ],
   "source": [
    "arr = [12,\"asf\",\"qwe\",\"power\",\"lol\",13,111,123]\n",
    "for a in arr:\n",
    "    if isinstance(a,int):\n",
    "        print(a,\": is numeric value\")"
   ]
  },
  {
   "cell_type": "code",
   "execution_count": 4,
   "metadata": {},
   "outputs": [
    {
     "name": "stdout",
     "output_type": "stream",
     "text": [
      "{'FirstName': 'Faizan', 'LastName': 'Tahir'}\n",
      "{'FirstName': 'Faizan', 'LastName': 'Tahir', 'Mid': 'lol'}\n"
     ]
    }
   ],
   "source": [
    "dtio = {\"FirstName\":\"Faizan\", \"LastName\":\"Tahir\"}\n",
    "print(dtio)\n",
    "\n",
    "dtio.update({\"Mid\":\"lol\"})\n",
    "print(dtio)\n",
    "\n"
   ]
  },
  {
   "cell_type": "code",
   "execution_count": 5,
   "metadata": {},
   "outputs": [
    {
     "name": "stdout",
     "output_type": "stream",
     "text": [
      "sum ::  1233\n"
     ]
    }
   ],
   "source": [
    "\n",
    "def sumdic(dtio):\n",
    "        sum = 0\n",
    "        for i in dtio.values():\n",
    "            sum = sum + i\n",
    "        return sum\n",
    "\n",
    "ndtio = {0:11 , 1:111, 2:1111 }\n",
    "\n",
    "print(\"sum :: \",sumdic(ndtio))"
   ]
  },
  {
   "cell_type": "code",
   "execution_count": 7,
   "metadata": {},
   "outputs": [
    {
     "name": "stdout",
     "output_type": "stream",
     "text": [
      "Duplicate value is found :  ccc\n",
      "Duplicate value is found :  1\n",
      "['ggg', 'ccc', 'abc', 'dd', 1]\n"
     ]
    }
   ],
   "source": [
    "lst1 = [\"ggg\",\"ccc\", \"abc\",\"dd\",\"ccc\",1,1]\n",
    "def dup(lst):\n",
    "    lst1dup = []\n",
    "    for val in lst:\n",
    "        if val not in lst1dup:\n",
    "            lst1dup.append(val)\n",
    "        elif val in lst1dup:\n",
    "            print(\"Duplicate value is found : \",val)\n",
    "    return lst1dup\n",
    "\n",
    "print(dup(lst1))"
   ]
  },
  {
   "cell_type": "code",
   "execution_count": 11,
   "metadata": {},
   "outputs": [
    {
     "name": "stdout",
     "output_type": "stream",
     "text": [
      "Key is present in the dictionary\n",
      "Key is not present in the dictionary\n"
     ]
    }
   ],
   "source": [
    "dic = {\n",
    "    1: 30,\n",
    "    2: 50,\n",
    "    3: 20,\n",
    "    4: 50,\n",
    "    5: 90,\n",
    "    6: 60}\n",
    "def is_key_present(x):\n",
    "    if x in dic:\n",
    "        print('Key is present in the dictionary')\n",
    "    else: \n",
    "        print('Key is not present in the dictionary')\n",
    "            \n",
    "is_key_present(2)\n",
    "is_key_present(26)\n"
   ]
  },
  {
   "cell_type": "code",
   "execution_count": null,
   "metadata": {},
   "outputs": [],
   "source": []
  }
 ],
 "metadata": {
  "kernelspec": {
   "display_name": "Python 3",
   "language": "python",
   "name": "python3"
  },
  "language_info": {
   "codemirror_mode": {
    "name": "ipython",
    "version": 3
   },
   "file_extension": ".py",
   "mimetype": "text/x-python",
   "name": "python",
   "nbconvert_exporter": "python",
   "pygments_lexer": "ipython3",
   "version": "3.7.4"
  }
 },
 "nbformat": 4,
 "nbformat_minor": 2
}
