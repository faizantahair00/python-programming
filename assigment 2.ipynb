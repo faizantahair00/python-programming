{
 "cells": [
  {
   "cell_type": "code",
   "execution_count": 1,
   "metadata": {},
   "outputs": [
    {
     "name": "stdout",
     "output_type": "stream",
     "text": [
      "Enter marks of the first subject: 87\n",
      "Enter marks of the second subject: 81\n",
      "Enter marks of the third subject: 77\n",
      "Enter marks of the fourth subject: 56\n",
      "Enter marks of the fifth subject: 69\n",
      "Total number :  370\n",
      "Total Percentage :  74.0\n",
      "Grade: A\n"
     ]
    }
   ],
   "source": [
    "sub1 = int(input(\"Enter marks of the first subject: \"))\n",
    "sub2 = int(input(\"Enter marks of the second subject: \"))\n",
    "sub3 = int(input(\"Enter marks of the third subject: \"))\n",
    "sub4 = int(input(\"Enter marks of the fourth subject: \"))\n",
    "sub5 = int(input(\"Enter marks of the fifth subject: \"))\n",
    "total = sub1+sub2+sub3+sub4+sub5 \n",
    "avg = (total / 500 ) *100\n",
    "\n",
    "print(\"Total number : \",total)\n",
    "print(\"Total Percentage : \",avg)\n",
    "\n",
    "if ( avg >= 90 ) :\n",
    "    print(\"Grade: A++\")\n",
    "elif ( avg >= 80 and avg <90 ):\n",
    "    print(\"Grade: A+\")\n",
    "elif ( avg >= 70 and avg < 80 ):\n",
    "    print(\"Grade: A\")\n",
    "elif ( avg >=60 and avg < 70):\n",
    "    print(\"Grade: B\")\n",
    "elif ( avg >=50 and avg < 60):\n",
    "    print(\"Grade: C\")\n",
    "else:\n",
    "    print(\"Grade: F\")"
   ]
  },
  {
   "cell_type": "code",
   "execution_count": 2,
   "metadata": {},
   "outputs": [
    {
     "name": "stdout",
     "output_type": "stream",
     "text": [
      "Enter the number :8\n",
      "number is even\n"
     ]
    }
   ],
   "source": [
    "number = int(input(\"Enter the number :\"))\n",
    "if(number % 2 == 0) :\n",
    "    print (\"number is even\")\n",
    "else :\n",
    "    print(\"number is odd\")"
   ]
  },
  {
   "cell_type": "code",
   "execution_count": 3,
   "metadata": {},
   "outputs": [
    {
     "name": "stdout",
     "output_type": "stream",
     "text": [
      "the length of list is :  12\n"
     ]
    }
   ],
   "source": [
    "number = [22,22,22,22,44,55,66,12,42,21,22,34]\n",
    "print(\"the length of list is : \", len(number))"
   ]
  },
  {
   "cell_type": "code",
   "execution_count": 4,
   "metadata": {},
   "outputs": [
    {
     "name": "stdout",
     "output_type": "stream",
     "text": [
      "the maximum number of list is :  253\n"
     ]
    }
   ],
   "source": [
    "number = [22,22,22,22,44,55,66,]\n",
    "print(\"the maximum number of list is : \", sum(number))"
   ]
  },
  {
   "cell_type": "code",
   "execution_count": 5,
   "metadata": {},
   "outputs": [
    {
     "name": "stdout",
     "output_type": "stream",
     "text": [
      "the maximum number of list is :  555\n"
     ]
    }
   ],
   "source": [
    "number = [22,22,22,22,44,55,66,108,256,555]\n",
    "print(\"the maximum number of list is : \", max(number))"
   ]
  },
  {
   "cell_type": "code",
   "execution_count": 6,
   "metadata": {},
   "outputs": [
    {
     "name": "stdout",
     "output_type": "stream",
     "text": [
      "1\n",
      "1\n",
      "2\n",
      "3\n"
     ]
    }
   ],
   "source": [
    "a = [1,1,2,3,5,8,13,21,34,55,89]\n",
    "for number in a :\n",
    "    if number <5 :\n",
    "        print(number)"
   ]
  },
  {
   "cell_type": "code",
   "execution_count": null,
   "metadata": {},
   "outputs": [],
   "source": []
  }
 ],
 "metadata": {
  "kernelspec": {
   "display_name": "Python 3",
   "language": "python",
   "name": "python3"
  },
  "language_info": {
   "codemirror_mode": {
    "name": "ipython",
    "version": 3
   },
   "file_extension": ".py",
   "mimetype": "text/x-python",
   "name": "python",
   "nbconvert_exporter": "python",
   "pygments_lexer": "ipython3",
   "version": "3.7.4"
  }
 },
 "nbformat": 4,
 "nbformat_minor": 2
}
